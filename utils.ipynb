{
 "cells": [
  {
   "cell_type": "code",
   "execution_count": 1,
   "metadata": {},
   "outputs": [],
   "source": [
    "import numpy as np\n",
    "from env_final import Kita"
   ]
  },
  {
   "cell_type": "code",
   "execution_count": null,
   "metadata": {},
   "outputs": [],
   "source": [
    "def board_to_matrix(env: Kita) -> np.ndarray:\n",
    "    matrix = np.zeros((10, 4, 7), dtype=np.float32)\n",
    "    \n",
    "    matrix[0, *env.pieces[env.turn][0]] = 1\n",
    "    matrix[1, *env.pieces[env.turn][1]] = 1\n",
    "    matrix[1, *env.pieces[env.turn][2]] = 1\n",
    "    \n",
    "    matrix[2, *env.pieces[-env.turn][0]] = 1\n",
    "    matrix[3, *env.pieces[-env.turn][1]] = 1\n",
    "    matrix[3, *env.pieces[-env.turn][2]] = 1\n",
    "\n",
    "    matrix[4, :, :] = (env.turn + 1)//2\n",
    "    matrix[5, :, :] = float(env.move_counter)/100\n",
    "    \n",
    "    if env.move_counter > 1:\n",
    "        matrix[6, *env.last_moves[env.turn][0]] = 1\n",
    "        matrix[6, *env.last_moves[env.turn][1]] = 1\n",
    "    \n",
    "    if env.move_counter > 0:\n",
    "        matrix[7, *env.last_moves[-env.turn][0]] = 1\n",
    "        matrix[7, *env.last_moves[-env.turn][1]] = 1\n",
    "\n",
    "    matrix[8] = env.tile_values\n",
    "\n",
    "    matrix[9] = [\n",
    "            [1, 1,     1,     1,  1,     1,     1],\n",
    "            [1,  0,  0,  1,  0,  0,  1],\n",
    "            [1,   0,  0,  1,  0,  0,  1],\n",
    "            [1, 1, 1, 1,  1,     1,     1]\n",
    "        ]\n",
    "    \n",
    "    return matrix"
   ]
  },
  {
   "cell_type": "code",
   "execution_count": 56,
   "metadata": {},
   "outputs": [],
   "source": [
    "def move_to_a0(move: str) -> int:\n",
    "    start_col = ord(move[0]) - 97\n",
    "    start_row = int(move[1]) - 1\n",
    "    end_col = ord(move[2]) - 97\n",
    "    end_row = int(move[3]) - 1\n",
    "    start_idx = start_col + start_row * 7\n",
    "\n",
    "    col_diff = end_col - start_col\n",
    "    row_diff = end_row - start_row\n",
    "\n",
    "    if col_diff == 0:\n",
    "        move_type_index = row_diff + 2 if row_diff > 0 else row_diff+3\n",
    "    elif row_diff == 0:\n",
    "        move_type_index = col_diff + 8 if col_diff > 0 else col_diff+9\n",
    "    else:\n",
    "        if abs(row_diff)-abs(col_diff) == 0:\n",
    "            move_type_index = (row_diff+2*col_diff+3)/2+12\n",
    "        elif abs(row_diff) == 2:\n",
    "            move_type_index = (row_diff+col_diff+3)/2+16\n",
    "        elif abs(col_diff) == 2:\n",
    "            move_type_index = (row_diff+col_diff+3)/2+20\n",
    "\n",
    "    return int(start_idx + move_type_index*28)\n"
   ]
  },
  {
   "cell_type": "code",
   "execution_count": 64,
   "metadata": {},
   "outputs": [],
   "source": [
    "def a0_to_move(action: int) -> str:\n",
    "    L_move = {12: (-1,-1), 13: (1,-1), 14:(-1,1), 15:(1,1),\n",
    "              16: (-2,-1), 17: (-2,1), 18:(2,-1), 19:(2,1),\n",
    "              20: (-1,-2), 21: (1,-2), 22:(-1,2), 23:(1,2)}\n",
    "    start_idx = action % 28\n",
    "    move_type_index = action // 28\n",
    "    start_row = start_idx // 7\n",
    "    start_col = start_idx % 7\n",
    "    start_square = chr(start_col + 97) + str(start_row + 1)\n",
    "\n",
    "    if move_type_index < 3:\n",
    "        end_square = chr(start_col+97) + str(start_row -3 + move_type_index + 1)\n",
    "    elif move_type_index < 6:\n",
    "        end_square = chr(start_col+97) + str(start_row + move_type_index - 1)\n",
    "    elif move_type_index < 9:\n",
    "        end_square = chr(start_col+97 + move_type_index - 9) + str(start_row + 1)\n",
    "    elif move_type_index < 12:\n",
    "        end_square = chr(start_col+97 + move_type_index - 8) + str(start_row + 1)\n",
    "    else:\n",
    "        end_square = chr(start_col+97 + L_move[move_type_index][1]) + str(start_row + L_move[move_type_index][0] + 1)\n",
    "    \n",
    "    return start_square + end_square"
   ]
  },
  {
   "cell_type": "code",
   "execution_count": null,
   "metadata": {},
   "outputs": [],
   "source": [
    "def moves_to_a0(moves: list[str]) -> list[int]:\n",
    "    return [move_to_a0(move) for move in moves]"
   ]
  },
  {
   "cell_type": "code",
   "execution_count": null,
   "metadata": {},
   "outputs": [],
   "source": [
    "def parallel_valid_policy(policies: np.ndarray, envs: list[Kita]) -> np.ndarray:\n",
    "    valid_moves = [list(env.get_valid_moves()) for env in envs]\n",
    "    encoded_valid_moves = [moves_to_a0(moves) for moves in valid_moves]\n",
    "    mask = np.zeros(shape=(len(envs), 672))\n",
    "    for i, moves in enumerate(encoded_valid_moves):\n",
    "        mask[i, moves] = 1\n",
    "    valid_policy = mask * policies\n",
    "    row_sums = np.sum(valid_policy, axis=1, keepdims=True, dtype=np.float32)\n",
    "    valid_policy /=  np.where(row_sums != 0, row_sums, 1)\n",
    "    return valid_policy\n",
    "\n",
    "def valid_policy(policy: np.ndarray, env: Kita) -> np.ndarray:\n",
    "    valid_moves = list(env.get_valid_moves)\n",
    "    encoded_valid_moves = moves_to_a0(valid_moves)\n",
    "    mask = np.zeros(672)\n",
    "    mask[encoded_valid_moves] = 1\n",
    "    valid_policy = mask * policy\n",
    "    valid_policy /= (np.sum(valid_policy) if np.sum(valid_policy) != 0 else 1)\n",
    "    return valid_policy"
   ]
  },
  {
   "cell_type": "code",
   "execution_count": null,
   "metadata": {},
   "outputs": [],
   "source": [
    "def prepare_input(env: Kita) -> torch.Tensor:\n",
    "    matrix = board_to_matrix(env)\n",
    "    X_tensor = torch.tensor(matrix, dtype=torch.float32)\n",
    "    return X_tensor"
   ]
  },
  {
   "cell_type": "code",
   "execution_count": 44,
   "metadata": {},
   "outputs": [],
   "source": [
    "l = []\n",
    "for i in range(7):\n",
    "    sc = chr(i+97)\n",
    "    for j in range(4):\n",
    "        sm = sc+str(j+1)\n",
    "        l.append(sm)\n"
   ]
  },
  {
   "cell_type": "code",
   "execution_count": 55,
   "metadata": {},
   "outputs": [
    {
     "ename": "UnboundLocalError",
     "evalue": "cannot access local variable 'move_type_index' where it is not associated with a value",
     "output_type": "error",
     "traceback": [
      "\u001b[1;31m---------------------------------------------------------------------------\u001b[0m",
      "\u001b[1;31mUnboundLocalError\u001b[0m                         Traceback (most recent call last)",
      "Cell \u001b[1;32mIn[55], line 1\u001b[0m\n\u001b[1;32m----> 1\u001b[0m \u001b[43mmove_to_a0\u001b[49m\u001b[43m(\u001b[49m\u001b[38;5;124;43m\"\u001b[39;49m\u001b[38;5;124;43ma3b1\u001b[39;49m\u001b[38;5;124;43m\"\u001b[39;49m\u001b[43m)\u001b[49m\n",
      "Cell \u001b[1;32mIn[52], line 23\u001b[0m, in \u001b[0;36mmove_to_a0\u001b[1;34m(move)\u001b[0m\n\u001b[0;32m     20\u001b[0m     \u001b[38;5;28;01melif\u001b[39;00m col_diff \u001b[38;5;241m==\u001b[39m \u001b[38;5;241m2\u001b[39m:\n\u001b[0;32m     21\u001b[0m         move_type_index \u001b[38;5;241m=\u001b[39m (row_diff\u001b[38;5;241m+\u001b[39mcol_diff\u001b[38;5;241m+\u001b[39m\u001b[38;5;241m3\u001b[39m)\u001b[38;5;241m/\u001b[39m\u001b[38;5;241m2\u001b[39m\u001b[38;5;241m+\u001b[39m\u001b[38;5;241m20\u001b[39m\n\u001b[1;32m---> 23\u001b[0m \u001b[38;5;28;01mreturn\u001b[39;00m \u001b[38;5;28mint\u001b[39m(start_idx \u001b[38;5;241m+\u001b[39m \u001b[43mmove_type_index\u001b[49m\u001b[38;5;241m*\u001b[39m\u001b[38;5;241m28\u001b[39m)\n",
      "\u001b[1;31mUnboundLocalError\u001b[0m: cannot access local variable 'move_type_index' where it is not associated with a value"
     ]
    }
   ],
   "source": [
    "move_to_a0(\"a3b1\")"
   ]
  },
  {
   "cell_type": "code",
   "execution_count": 65,
   "metadata": {},
   "outputs": [],
   "source": [
    "for i in l:\n",
    "    for j in l:\n",
    "        if i!=j:\n",
    "            move = i+j\n",
    "            if abs(ord(move[0]) - ord(move[2])) + abs(int(move[1]) - int(move[3])) <=3:\n",
    "                    if move != a0_to_move(move_to_a0(move)):\n",
    "                        print(f\"move: {move}, enc:{move_to_a0(move)}, move_from_enc: {a0_to_move(move_to_a0(move))}\")\n",
    "                "
   ]
  },
  {
   "cell_type": "code",
   "execution_count": 41,
   "metadata": {},
   "outputs": [
    {
     "name": "stdout",
     "output_type": "stream",
     "text": [
      "a2a3\n"
     ]
    }
   ],
   "source": [
    "print(a0_to_move(move_to_a0(\"a2a3\")))"
   ]
  },
  {
   "cell_type": "code",
   "execution_count": 32,
   "metadata": {},
   "outputs": [
    {
     "name": "stdout",
     "output_type": "stream",
     "text": [
      "\n",
      "4| -2  -1   0   0   0   0   0\n",
      "3| -1           0           0\n",
      "2|  0           0           1\n",
      "1|  0   0   0   1   0   0   2\n",
      "   ___________________________\n",
      "    a   b   c   d   e   f   g\n",
      "\n",
      "4| -2  -1   0   0   0   0   0\n",
      "3|  0           0           0\n",
      "2|  0           0           1\n",
      "1| -1   0   0   1   0   0   2\n",
      "   ___________________________\n",
      "    a   b   c   d   e   f   g\n"
     ]
    }
   ],
   "source": [
    "env = Kita()\n",
    "env.move(\"f1d1\")\n",
    "env.print_board_state()\n",
    "env.move(\"a3a1\")\n",
    "env.print_board_state()"
   ]
  }
 ],
 "metadata": {
  "kernelspec": {
   "display_name": ".venv",
   "language": "python",
   "name": "python3"
  },
  "language_info": {
   "codemirror_mode": {
    "name": "ipython",
    "version": 3
   },
   "file_extension": ".py",
   "mimetype": "text/x-python",
   "name": "python",
   "nbconvert_exporter": "python",
   "pygments_lexer": "ipython3",
   "version": "3.13.1"
  }
 },
 "nbformat": 4,
 "nbformat_minor": 2
}
