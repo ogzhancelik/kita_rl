{
 "cells": [
  {
   "cell_type": "code",
   "execution_count": 1,
   "metadata": {},
   "outputs": [],
   "source": [
    "import numpy as np\n",
    "from env_final import Kita"
   ]
  },
  {
   "cell_type": "code",
   "execution_count": null,
   "metadata": {},
   "outputs": [],
   "source": [
    "def board_to_matrix(env: Kita) -> np.ndarray:\n",
    "    matrix = np.zeros((10, 4, 7), dtype=np.float32)\n",
    "    \n",
    "    matrix[0, *env.pieces[env.turn][0]] = 1\n",
    "    matrix[1, *env.pieces[env.turn][1]] = 1\n",
    "    matrix[1, *env.pieces[env.turn][2]] = 1\n",
    "    \n",
    "    matrix[2, *env.pieces[-env.turn][0]] = 1\n",
    "    matrix[3, *env.pieces[-env.turn][1]] = 1\n",
    "    matrix[3, *env.pieces[-env.turn][2]] = 1\n",
    "\n",
    "    matrix[4, :, :] = (env.turn + 1)//2\n",
    "    matrix[5, :, :] = float(env.move_counter)/100\n",
    "    \n",
    "    if env.move_counter > 1:\n",
    "        matrix[6, *env.last_moves[env.turn][0]] = 1\n",
    "        matrix[6, *env.last_moves[env.turn][1]] = 1\n",
    "    \n",
    "    if env.move_counter > 0:\n",
    "        matrix[7, *env.last_moves[-env.turn][0]] = 1\n",
    "        matrix[7, *env.last_moves[-env.turn][1]] = 1\n",
    "\n",
    "    matrix[8] = env.tile_values\n",
    "\n",
    "    matrix[9] = [\n",
    "            [1, 1,     1,     1,  1,     1,     1],\n",
    "            [1,  0,  0,  1,  0,  0,  1],\n",
    "            [1,   0,  0,  1,  0,  0,  1],\n",
    "            [1, 1, 1, 1,  1,     1,     1]\n",
    "        ]\n",
    "    \n",
    "    return matrix"
   ]
  },
  {
   "cell_type": "code",
   "execution_count": 35,
   "metadata": {},
   "outputs": [],
   "source": [
    "def move_to_alphazero(move: str) -> int:\n",
    "    start_col = ord(move[0]) - 97\n",
    "    start_row = int(move[1]) - 1\n",
    "    end_col = ord(move[2]) - 97\n",
    "    end_row = int(move[3]) - 1\n",
    "    start_idx = start_col + start_row * 4\n",
    "\n",
    "    col_diff = end_col - start_col\n",
    "    row_diff = end_row - start_row\n",
    "\n",
    "    if col_diff == 0:\n",
    "        move_type_index = row_diff + 3\n",
    "    elif row_diff == 0:\n",
    "        move_type_index = col_diff + 9\n",
    "    else:\n",
    "        if abs(row_diff-col_diff) == 0:\n",
    "            move_type_index = (row_diff+2*col_diff+3)/2+12\n",
    "        elif row_diff == 2:\n",
    "            move_type_index = (row_diff+col_diff+3)/2+16\n",
    "        elif col_diff == 2:\n",
    "            move_type_index = (row_diff+col_diff+3)/2+20\n",
    "\n",
    "    return start_idx + move_type_index*28\n"
   ]
  },
  {
   "cell_type": "code",
   "execution_count": 32,
   "metadata": {},
   "outputs": [
    {
     "name": "stdout",
     "output_type": "stream",
     "text": [
      "\n",
      "4| -2  -1   0   0   0   0   0\n",
      "3| -1           0           0\n",
      "2|  0           0           1\n",
      "1|  0   0   0   1   0   0   2\n",
      "   ___________________________\n",
      "    a   b   c   d   e   f   g\n",
      "\n",
      "4| -2  -1   0   0   0   0   0\n",
      "3|  0           0           0\n",
      "2|  0           0           1\n",
      "1| -1   0   0   1   0   0   2\n",
      "   ___________________________\n",
      "    a   b   c   d   e   f   g\n"
     ]
    }
   ],
   "source": [
    "env = Kita()\n",
    "env.move(\"f1d1\")\n",
    "env.print_board_state()\n",
    "env.move(\"a3a1\")\n",
    "env.print_board_state()"
   ]
  }
 ],
 "metadata": {
  "kernelspec": {
   "display_name": ".venv",
   "language": "python",
   "name": "python3"
  },
  "language_info": {
   "codemirror_mode": {
    "name": "ipython",
    "version": 3
   },
   "file_extension": ".py",
   "mimetype": "text/x-python",
   "name": "python",
   "nbconvert_exporter": "python",
   "pygments_lexer": "ipython3",
   "version": "3.11.9"
  }
 },
 "nbformat": 4,
 "nbformat_minor": 2
}
